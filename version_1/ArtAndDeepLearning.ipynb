{
  "nbformat": 4,
  "nbformat_minor": 0,
  "metadata": {
    "colab": {
      "provenance": []
    },
    "kernelspec": {
      "name": "python3",
      "display_name": "Python 3"
    },
    "language_info": {
      "name": "python"
    }
  },
  "cells": [
    {
      "cell_type": "markdown",
      "source": [
        "## Importação do [dataset do Kaggle](https://www.kaggle.com/datasets/steubk/wikiart)"
      ],
      "metadata": {
        "id": "PIs9bQbFz90M"
      }
    },
    {
      "cell_type": "code",
      "source": [
        "# instalação da lib do Kaggle (kagglehub) para realizar download\n",
        "# !pip install kagglehub"
      ],
      "metadata": {
        "id": "phimu1lX_GeL"
      },
      "execution_count": 161,
      "outputs": []
    },
    {
      "cell_type": "code",
      "source": [
        "# imports utilizados no código\n",
        "import kagglehub\n",
        "import pandas as pd\n",
        "import os\n",
        "import numpy\n",
        "import matplotlib.pyplot as plt"
      ],
      "metadata": {
        "id": "RvO75LcDEoVf"
      },
      "execution_count": 162,
      "outputs": []
    },
    {
      "cell_type": "code",
      "source": [
        "# path = kagglehub.dataset_download(\"steubk/wikiart\")\n",
        "# print(\"Path to dataset files:\", path) # Path to dataset files: /root/.cache/kagglehub/datasets/steubk/wikiart/versions/1"
      ],
      "metadata": {
        "id": "Nv_s3P93_GY-"
      },
      "execution_count": 163,
      "outputs": []
    },
    {
      "cell_type": "code",
      "source": [
        "# classes.csv\n",
        "path = '/root/.cache/kagglehub/datasets/steubk/wikiart/versions/1'\n",
        "dataset_path = os.path.join(path, 'classes.csv')\n",
        "df = pd.read_csv(dataset_path)"
      ],
      "metadata": {
        "id": "bTIKFJD4BczI"
      },
      "execution_count": 164,
      "outputs": []
    },
    {
      "cell_type": "markdown",
      "source": [
        "## Exploração do dataset, suas colunas e informações"
      ],
      "metadata": {
        "id": "Bv3uDwPoz2fq"
      }
    },
    {
      "cell_type": "code",
      "source": [
        "df.head()"
      ],
      "metadata": {
        "colab": {
          "base_uri": "https://localhost:8080/",
          "height": 206
        },
        "id": "umRrVGgmY4ri",
        "outputId": "c770fbe7-b8e2-4e91-f939-1917304ba10e"
      },
      "execution_count": 165,
      "outputs": [
        {
          "output_type": "execute_result",
          "data": {
            "text/plain": [
              "                                            filename         artist  \\\n",
              "0  Abstract_Expressionism/aaron-siskind_acolman-1...  aaron siskind   \n",
              "1  Abstract_Expressionism/aaron-siskind_chicago-6...  aaron siskind   \n",
              "2  Abstract_Expressionism/aaron-siskind_glouceste...  aaron siskind   \n",
              "3  Abstract_Expressionism/aaron-siskind_jerome-ar...  aaron siskind   \n",
              "4  Abstract_Expressionism/aaron-siskind_kentucky-...  aaron siskind   \n",
              "\n",
              "                        genre          description             phash  width  \\\n",
              "0  ['Abstract Expressionism']       acolman-1-1955  bebbeb018a7d80a8   1922   \n",
              "1  ['Abstract Expressionism']       chicago-6-1961  d7d0781be51fc00e   1382   \n",
              "2  ['Abstract Expressionism']  gloucester-16a-1944  9f846e5a6c639325   1382   \n",
              "3  ['Abstract Expressionism']  jerome-arizona-1949  a5d691f85ac5e4d0   1382   \n",
              "4  ['Abstract Expressionism']      kentucky-4-1951  880df359e6b11db1   1382   \n",
              "\n",
              "   height  genre_count subset  \n",
              "0    1382            1  train  \n",
              "1    1746            1  train  \n",
              "2    1857            1  train  \n",
              "3    1849            1  train  \n",
              "4    1625            1  train  "
            ],
            "text/html": [
              "\n",
              "  <div id=\"df-a1b9e576-0287-451f-a13c-e703a82db652\" class=\"colab-df-container\">\n",
              "    <div>\n",
              "<style scoped>\n",
              "    .dataframe tbody tr th:only-of-type {\n",
              "        vertical-align: middle;\n",
              "    }\n",
              "\n",
              "    .dataframe tbody tr th {\n",
              "        vertical-align: top;\n",
              "    }\n",
              "\n",
              "    .dataframe thead th {\n",
              "        text-align: right;\n",
              "    }\n",
              "</style>\n",
              "<table border=\"1\" class=\"dataframe\">\n",
              "  <thead>\n",
              "    <tr style=\"text-align: right;\">\n",
              "      <th></th>\n",
              "      <th>filename</th>\n",
              "      <th>artist</th>\n",
              "      <th>genre</th>\n",
              "      <th>description</th>\n",
              "      <th>phash</th>\n",
              "      <th>width</th>\n",
              "      <th>height</th>\n",
              "      <th>genre_count</th>\n",
              "      <th>subset</th>\n",
              "    </tr>\n",
              "  </thead>\n",
              "  <tbody>\n",
              "    <tr>\n",
              "      <th>0</th>\n",
              "      <td>Abstract_Expressionism/aaron-siskind_acolman-1...</td>\n",
              "      <td>aaron siskind</td>\n",
              "      <td>['Abstract Expressionism']</td>\n",
              "      <td>acolman-1-1955</td>\n",
              "      <td>bebbeb018a7d80a8</td>\n",
              "      <td>1922</td>\n",
              "      <td>1382</td>\n",
              "      <td>1</td>\n",
              "      <td>train</td>\n",
              "    </tr>\n",
              "    <tr>\n",
              "      <th>1</th>\n",
              "      <td>Abstract_Expressionism/aaron-siskind_chicago-6...</td>\n",
              "      <td>aaron siskind</td>\n",
              "      <td>['Abstract Expressionism']</td>\n",
              "      <td>chicago-6-1961</td>\n",
              "      <td>d7d0781be51fc00e</td>\n",
              "      <td>1382</td>\n",
              "      <td>1746</td>\n",
              "      <td>1</td>\n",
              "      <td>train</td>\n",
              "    </tr>\n",
              "    <tr>\n",
              "      <th>2</th>\n",
              "      <td>Abstract_Expressionism/aaron-siskind_glouceste...</td>\n",
              "      <td>aaron siskind</td>\n",
              "      <td>['Abstract Expressionism']</td>\n",
              "      <td>gloucester-16a-1944</td>\n",
              "      <td>9f846e5a6c639325</td>\n",
              "      <td>1382</td>\n",
              "      <td>1857</td>\n",
              "      <td>1</td>\n",
              "      <td>train</td>\n",
              "    </tr>\n",
              "    <tr>\n",
              "      <th>3</th>\n",
              "      <td>Abstract_Expressionism/aaron-siskind_jerome-ar...</td>\n",
              "      <td>aaron siskind</td>\n",
              "      <td>['Abstract Expressionism']</td>\n",
              "      <td>jerome-arizona-1949</td>\n",
              "      <td>a5d691f85ac5e4d0</td>\n",
              "      <td>1382</td>\n",
              "      <td>1849</td>\n",
              "      <td>1</td>\n",
              "      <td>train</td>\n",
              "    </tr>\n",
              "    <tr>\n",
              "      <th>4</th>\n",
              "      <td>Abstract_Expressionism/aaron-siskind_kentucky-...</td>\n",
              "      <td>aaron siskind</td>\n",
              "      <td>['Abstract Expressionism']</td>\n",
              "      <td>kentucky-4-1951</td>\n",
              "      <td>880df359e6b11db1</td>\n",
              "      <td>1382</td>\n",
              "      <td>1625</td>\n",
              "      <td>1</td>\n",
              "      <td>train</td>\n",
              "    </tr>\n",
              "  </tbody>\n",
              "</table>\n",
              "</div>\n",
              "    <div class=\"colab-df-buttons\">\n",
              "\n",
              "  <div class=\"colab-df-container\">\n",
              "    <button class=\"colab-df-convert\" onclick=\"convertToInteractive('df-a1b9e576-0287-451f-a13c-e703a82db652')\"\n",
              "            title=\"Convert this dataframe to an interactive table.\"\n",
              "            style=\"display:none;\">\n",
              "\n",
              "  <svg xmlns=\"http://www.w3.org/2000/svg\" height=\"24px\" viewBox=\"0 -960 960 960\">\n",
              "    <path d=\"M120-120v-720h720v720H120Zm60-500h600v-160H180v160Zm220 220h160v-160H400v160Zm0 220h160v-160H400v160ZM180-400h160v-160H180v160Zm440 0h160v-160H620v160ZM180-180h160v-160H180v160Zm440 0h160v-160H620v160Z\"/>\n",
              "  </svg>\n",
              "    </button>\n",
              "\n",
              "  <style>\n",
              "    .colab-df-container {\n",
              "      display:flex;\n",
              "      gap: 12px;\n",
              "    }\n",
              "\n",
              "    .colab-df-convert {\n",
              "      background-color: #E8F0FE;\n",
              "      border: none;\n",
              "      border-radius: 50%;\n",
              "      cursor: pointer;\n",
              "      display: none;\n",
              "      fill: #1967D2;\n",
              "      height: 32px;\n",
              "      padding: 0 0 0 0;\n",
              "      width: 32px;\n",
              "    }\n",
              "\n",
              "    .colab-df-convert:hover {\n",
              "      background-color: #E2EBFA;\n",
              "      box-shadow: 0px 1px 2px rgba(60, 64, 67, 0.3), 0px 1px 3px 1px rgba(60, 64, 67, 0.15);\n",
              "      fill: #174EA6;\n",
              "    }\n",
              "\n",
              "    .colab-df-buttons div {\n",
              "      margin-bottom: 4px;\n",
              "    }\n",
              "\n",
              "    [theme=dark] .colab-df-convert {\n",
              "      background-color: #3B4455;\n",
              "      fill: #D2E3FC;\n",
              "    }\n",
              "\n",
              "    [theme=dark] .colab-df-convert:hover {\n",
              "      background-color: #434B5C;\n",
              "      box-shadow: 0px 1px 3px 1px rgba(0, 0, 0, 0.15);\n",
              "      filter: drop-shadow(0px 1px 2px rgba(0, 0, 0, 0.3));\n",
              "      fill: #FFFFFF;\n",
              "    }\n",
              "  </style>\n",
              "\n",
              "    <script>\n",
              "      const buttonEl =\n",
              "        document.querySelector('#df-a1b9e576-0287-451f-a13c-e703a82db652 button.colab-df-convert');\n",
              "      buttonEl.style.display =\n",
              "        google.colab.kernel.accessAllowed ? 'block' : 'none';\n",
              "\n",
              "      async function convertToInteractive(key) {\n",
              "        const element = document.querySelector('#df-a1b9e576-0287-451f-a13c-e703a82db652');\n",
              "        const dataTable =\n",
              "          await google.colab.kernel.invokeFunction('convertToInteractive',\n",
              "                                                    [key], {});\n",
              "        if (!dataTable) return;\n",
              "\n",
              "        const docLinkHtml = 'Like what you see? Visit the ' +\n",
              "          '<a target=\"_blank\" href=https://colab.research.google.com/notebooks/data_table.ipynb>data table notebook</a>'\n",
              "          + ' to learn more about interactive tables.';\n",
              "        element.innerHTML = '';\n",
              "        dataTable['output_type'] = 'display_data';\n",
              "        await google.colab.output.renderOutput(dataTable, element);\n",
              "        const docLink = document.createElement('div');\n",
              "        docLink.innerHTML = docLinkHtml;\n",
              "        element.appendChild(docLink);\n",
              "      }\n",
              "    </script>\n",
              "  </div>\n",
              "\n",
              "\n",
              "<div id=\"df-663f2522-f78c-42be-8eb2-1a70d97c4dd0\">\n",
              "  <button class=\"colab-df-quickchart\" onclick=\"quickchart('df-663f2522-f78c-42be-8eb2-1a70d97c4dd0')\"\n",
              "            title=\"Suggest charts\"\n",
              "            style=\"display:none;\">\n",
              "\n",
              "<svg xmlns=\"http://www.w3.org/2000/svg\" height=\"24px\"viewBox=\"0 0 24 24\"\n",
              "     width=\"24px\">\n",
              "    <g>\n",
              "        <path d=\"M19 3H5c-1.1 0-2 .9-2 2v14c0 1.1.9 2 2 2h14c1.1 0 2-.9 2-2V5c0-1.1-.9-2-2-2zM9 17H7v-7h2v7zm4 0h-2V7h2v10zm4 0h-2v-4h2v4z\"/>\n",
              "    </g>\n",
              "</svg>\n",
              "  </button>\n",
              "\n",
              "<style>\n",
              "  .colab-df-quickchart {\n",
              "      --bg-color: #E8F0FE;\n",
              "      --fill-color: #1967D2;\n",
              "      --hover-bg-color: #E2EBFA;\n",
              "      --hover-fill-color: #174EA6;\n",
              "      --disabled-fill-color: #AAA;\n",
              "      --disabled-bg-color: #DDD;\n",
              "  }\n",
              "\n",
              "  [theme=dark] .colab-df-quickchart {\n",
              "      --bg-color: #3B4455;\n",
              "      --fill-color: #D2E3FC;\n",
              "      --hover-bg-color: #434B5C;\n",
              "      --hover-fill-color: #FFFFFF;\n",
              "      --disabled-bg-color: #3B4455;\n",
              "      --disabled-fill-color: #666;\n",
              "  }\n",
              "\n",
              "  .colab-df-quickchart {\n",
              "    background-color: var(--bg-color);\n",
              "    border: none;\n",
              "    border-radius: 50%;\n",
              "    cursor: pointer;\n",
              "    display: none;\n",
              "    fill: var(--fill-color);\n",
              "    height: 32px;\n",
              "    padding: 0;\n",
              "    width: 32px;\n",
              "  }\n",
              "\n",
              "  .colab-df-quickchart:hover {\n",
              "    background-color: var(--hover-bg-color);\n",
              "    box-shadow: 0 1px 2px rgba(60, 64, 67, 0.3), 0 1px 3px 1px rgba(60, 64, 67, 0.15);\n",
              "    fill: var(--button-hover-fill-color);\n",
              "  }\n",
              "\n",
              "  .colab-df-quickchart-complete:disabled,\n",
              "  .colab-df-quickchart-complete:disabled:hover {\n",
              "    background-color: var(--disabled-bg-color);\n",
              "    fill: var(--disabled-fill-color);\n",
              "    box-shadow: none;\n",
              "  }\n",
              "\n",
              "  .colab-df-spinner {\n",
              "    border: 2px solid var(--fill-color);\n",
              "    border-color: transparent;\n",
              "    border-bottom-color: var(--fill-color);\n",
              "    animation:\n",
              "      spin 1s steps(1) infinite;\n",
              "  }\n",
              "\n",
              "  @keyframes spin {\n",
              "    0% {\n",
              "      border-color: transparent;\n",
              "      border-bottom-color: var(--fill-color);\n",
              "      border-left-color: var(--fill-color);\n",
              "    }\n",
              "    20% {\n",
              "      border-color: transparent;\n",
              "      border-left-color: var(--fill-color);\n",
              "      border-top-color: var(--fill-color);\n",
              "    }\n",
              "    30% {\n",
              "      border-color: transparent;\n",
              "      border-left-color: var(--fill-color);\n",
              "      border-top-color: var(--fill-color);\n",
              "      border-right-color: var(--fill-color);\n",
              "    }\n",
              "    40% {\n",
              "      border-color: transparent;\n",
              "      border-right-color: var(--fill-color);\n",
              "      border-top-color: var(--fill-color);\n",
              "    }\n",
              "    60% {\n",
              "      border-color: transparent;\n",
              "      border-right-color: var(--fill-color);\n",
              "    }\n",
              "    80% {\n",
              "      border-color: transparent;\n",
              "      border-right-color: var(--fill-color);\n",
              "      border-bottom-color: var(--fill-color);\n",
              "    }\n",
              "    90% {\n",
              "      border-color: transparent;\n",
              "      border-bottom-color: var(--fill-color);\n",
              "    }\n",
              "  }\n",
              "</style>\n",
              "\n",
              "  <script>\n",
              "    async function quickchart(key) {\n",
              "      const quickchartButtonEl =\n",
              "        document.querySelector('#' + key + ' button');\n",
              "      quickchartButtonEl.disabled = true;  // To prevent multiple clicks.\n",
              "      quickchartButtonEl.classList.add('colab-df-spinner');\n",
              "      try {\n",
              "        const charts = await google.colab.kernel.invokeFunction(\n",
              "            'suggestCharts', [key], {});\n",
              "      } catch (error) {\n",
              "        console.error('Error during call to suggestCharts:', error);\n",
              "      }\n",
              "      quickchartButtonEl.classList.remove('colab-df-spinner');\n",
              "      quickchartButtonEl.classList.add('colab-df-quickchart-complete');\n",
              "    }\n",
              "    (() => {\n",
              "      let quickchartButtonEl =\n",
              "        document.querySelector('#df-663f2522-f78c-42be-8eb2-1a70d97c4dd0 button');\n",
              "      quickchartButtonEl.style.display =\n",
              "        google.colab.kernel.accessAllowed ? 'block' : 'none';\n",
              "    })();\n",
              "  </script>\n",
              "</div>\n",
              "\n",
              "    </div>\n",
              "  </div>\n"
            ],
            "application/vnd.google.colaboratory.intrinsic+json": {
              "type": "dataframe",
              "variable_name": "df",
              "summary": "{\n  \"name\": \"df\",\n  \"rows\": 80042,\n  \"fields\": [\n    {\n      \"column\": \"filename\",\n      \"properties\": {\n        \"dtype\": \"string\",\n        \"num_unique_values\": 80042,\n        \"samples\": [\n          \"Rococo/william-hogarth_central-panel-of-the-altar-triptych-w-st-nicholas-bristol.jpg\",\n          \"Realism/isaac-levitan_view-of-nizhniy-novgorod.jpg\",\n          \"Art_Nouveau_Modern/raphael-kirchner_marionettes-3.jpg\"\n        ],\n        \"semantic_type\": \"\",\n        \"description\": \"\"\n      }\n    },\n    {\n      \"column\": \"artist\",\n      \"properties\": {\n        \"dtype\": \"category\",\n        \"num_unique_values\": 1119,\n        \"samples\": [\n          \"francisco de zurbaran\",\n          \"peter busa\",\n          \"fernand khnopff\"\n        ],\n        \"semantic_type\": \"\",\n        \"description\": \"\"\n      }\n    },\n    {\n      \"column\": \"genre\",\n      \"properties\": {\n        \"dtype\": \"category\",\n        \"num_unique_values\": 114,\n        \"samples\": [\n          \"['Post Impressionism']\",\n          \"['Action painting']\",\n          \"['Impressionism', 'Realism']\"\n        ],\n        \"semantic_type\": \"\",\n        \"description\": \"\"\n      }\n    },\n    {\n      \"column\": \"description\",\n      \"properties\": {\n        \"dtype\": \"string\",\n        \"num_unique_values\": 75212,\n        \"samples\": [\n          \"four-men-on-a-road-with-pine-trees-1890(1)\",\n          \"fire-dance-1891\",\n          \"the-silver-beaker\"\n        ],\n        \"semantic_type\": \"\",\n        \"description\": \"\"\n      }\n    },\n    {\n      \"column\": \"phash\",\n      \"properties\": {\n        \"dtype\": \"string\",\n        \"num_unique_values\": 80020,\n        \"samples\": [\n          \"aa91077eb061c767\",\n          \"b0c288755fa8751f\",\n          \"c74761349e9c7263\"\n        ],\n        \"semantic_type\": \"\",\n        \"description\": \"\"\n      }\n    },\n    {\n      \"column\": \"width\",\n      \"properties\": {\n        \"dtype\": \"number\",\n        \"std\": 400,\n        \"min\": 1381,\n        \"max\": 15754,\n        \"num_unique_values\": 2116,\n        \"samples\": [\n          2841,\n          2428,\n          1811\n        ],\n        \"semantic_type\": \"\",\n        \"description\": \"\"\n      }\n    },\n    {\n      \"column\": \"height\",\n      \"properties\": {\n        \"dtype\": \"number\",\n        \"std\": 401,\n        \"min\": 1381,\n        \"max\": 17768,\n        \"num_unique_values\": 2178,\n        \"samples\": [\n          1992,\n          1765,\n          3022\n        ],\n        \"semantic_type\": \"\",\n        \"description\": \"\"\n      }\n    },\n    {\n      \"column\": \"genre_count\",\n      \"properties\": {\n        \"dtype\": \"number\",\n        \"std\": 0,\n        \"min\": 1,\n        \"max\": 3,\n        \"num_unique_values\": 3,\n        \"samples\": [\n          1,\n          2,\n          3\n        ],\n        \"semantic_type\": \"\",\n        \"description\": \"\"\n      }\n    },\n    {\n      \"column\": \"subset\",\n      \"properties\": {\n        \"dtype\": \"category\",\n        \"num_unique_values\": 3,\n        \"samples\": [\n          \"train\",\n          \"test\",\n          \"uncertain artist\"\n        ],\n        \"semantic_type\": \"\",\n        \"description\": \"\"\n      }\n    }\n  ]\n}"
            }
          },
          "metadata": {},
          "execution_count": 165
        }
      ]
    },
    {
      "cell_type": "code",
      "source": [
        "df.info(), df.columns"
      ],
      "metadata": {
        "colab": {
          "base_uri": "https://localhost:8080/"
        },
        "id": "LqaKjjRIZHLT",
        "outputId": "708a6de4-dcaf-4e53-c216-82cdf640cd41"
      },
      "execution_count": 166,
      "outputs": [
        {
          "output_type": "stream",
          "name": "stdout",
          "text": [
            "<class 'pandas.core.frame.DataFrame'>\n",
            "RangeIndex: 80042 entries, 0 to 80041\n",
            "Data columns (total 9 columns):\n",
            " #   Column       Non-Null Count  Dtype \n",
            "---  ------       --------------  ----- \n",
            " 0   filename     80042 non-null  object\n",
            " 1   artist       80042 non-null  object\n",
            " 2   genre        80042 non-null  object\n",
            " 3   description  80042 non-null  object\n",
            " 4   phash        80042 non-null  object\n",
            " 5   width        80042 non-null  int64 \n",
            " 6   height       80042 non-null  int64 \n",
            " 7   genre_count  80042 non-null  int64 \n",
            " 8   subset       80042 non-null  object\n",
            "dtypes: int64(3), object(6)\n",
            "memory usage: 5.5+ MB\n"
          ]
        },
        {
          "output_type": "execute_result",
          "data": {
            "text/plain": [
              "(None,\n",
              " Index(['filename', 'artist', 'genre', 'description', 'phash', 'width',\n",
              "        'height', 'genre_count', 'subset'],\n",
              "       dtype='object'))"
            ]
          },
          "metadata": {},
          "execution_count": 166
        }
      ]
    },
    {
      "cell_type": "code",
      "source": [
        "df['subset'].value_counts()"
      ],
      "metadata": {
        "colab": {
          "base_uri": "https://localhost:8080/",
          "height": 209
        },
        "id": "spldbbbbaPFC",
        "outputId": "7622cdea-ae6c-4249-e0fe-35c637a468b9"
      },
      "execution_count": 167,
      "outputs": [
        {
          "output_type": "execute_result",
          "data": {
            "text/plain": [
              "subset\n",
              "train               63998\n",
              "test                16000\n",
              "uncertain artist       44\n",
              "Name: count, dtype: int64"
            ],
            "text/html": [
              "<div>\n",
              "<style scoped>\n",
              "    .dataframe tbody tr th:only-of-type {\n",
              "        vertical-align: middle;\n",
              "    }\n",
              "\n",
              "    .dataframe tbody tr th {\n",
              "        vertical-align: top;\n",
              "    }\n",
              "\n",
              "    .dataframe thead th {\n",
              "        text-align: right;\n",
              "    }\n",
              "</style>\n",
              "<table border=\"1\" class=\"dataframe\">\n",
              "  <thead>\n",
              "    <tr style=\"text-align: right;\">\n",
              "      <th></th>\n",
              "      <th>count</th>\n",
              "    </tr>\n",
              "    <tr>\n",
              "      <th>subset</th>\n",
              "      <th></th>\n",
              "    </tr>\n",
              "  </thead>\n",
              "  <tbody>\n",
              "    <tr>\n",
              "      <th>train</th>\n",
              "      <td>63998</td>\n",
              "    </tr>\n",
              "    <tr>\n",
              "      <th>test</th>\n",
              "      <td>16000</td>\n",
              "    </tr>\n",
              "    <tr>\n",
              "      <th>uncertain artist</th>\n",
              "      <td>44</td>\n",
              "    </tr>\n",
              "  </tbody>\n",
              "</table>\n",
              "</div><br><label><b>dtype:</b> int64</label>"
            ]
          },
          "metadata": {},
          "execution_count": 167
        }
      ]
    },
    {
      "cell_type": "code",
      "source": [
        "df['artist'].value_counts()"
      ],
      "metadata": {
        "colab": {
          "base_uri": "https://localhost:8080/",
          "height": 489
        },
        "id": "bOmM7CpwasvG",
        "outputId": "afd92816-6be8-49e6-82b4-636853905cd4"
      },
      "execution_count": 168,
      "outputs": [
        {
          "output_type": "execute_result",
          "data": {
            "text/plain": [
              "artist\n",
              "vincent van gogh         1888\n",
              "nicholas roerich         1816\n",
              "pierre auguste renoir    1399\n",
              "claude monet             1334\n",
              "pyotr konchalovsky        924\n",
              "                         ... \n",
              "lygia pape                  1\n",
              "kurt schwitters             1\n",
              "antoni tapies               1\n",
              "lorser feitelson            1\n",
              "philippe halsman            1\n",
              "Name: count, Length: 1119, dtype: int64"
            ],
            "text/html": [
              "<div>\n",
              "<style scoped>\n",
              "    .dataframe tbody tr th:only-of-type {\n",
              "        vertical-align: middle;\n",
              "    }\n",
              "\n",
              "    .dataframe tbody tr th {\n",
              "        vertical-align: top;\n",
              "    }\n",
              "\n",
              "    .dataframe thead th {\n",
              "        text-align: right;\n",
              "    }\n",
              "</style>\n",
              "<table border=\"1\" class=\"dataframe\">\n",
              "  <thead>\n",
              "    <tr style=\"text-align: right;\">\n",
              "      <th></th>\n",
              "      <th>count</th>\n",
              "    </tr>\n",
              "    <tr>\n",
              "      <th>artist</th>\n",
              "      <th></th>\n",
              "    </tr>\n",
              "  </thead>\n",
              "  <tbody>\n",
              "    <tr>\n",
              "      <th>vincent van gogh</th>\n",
              "      <td>1888</td>\n",
              "    </tr>\n",
              "    <tr>\n",
              "      <th>nicholas roerich</th>\n",
              "      <td>1816</td>\n",
              "    </tr>\n",
              "    <tr>\n",
              "      <th>pierre auguste renoir</th>\n",
              "      <td>1399</td>\n",
              "    </tr>\n",
              "    <tr>\n",
              "      <th>claude monet</th>\n",
              "      <td>1334</td>\n",
              "    </tr>\n",
              "    <tr>\n",
              "      <th>pyotr konchalovsky</th>\n",
              "      <td>924</td>\n",
              "    </tr>\n",
              "    <tr>\n",
              "      <th>...</th>\n",
              "      <td>...</td>\n",
              "    </tr>\n",
              "    <tr>\n",
              "      <th>lygia pape</th>\n",
              "      <td>1</td>\n",
              "    </tr>\n",
              "    <tr>\n",
              "      <th>kurt schwitters</th>\n",
              "      <td>1</td>\n",
              "    </tr>\n",
              "    <tr>\n",
              "      <th>antoni tapies</th>\n",
              "      <td>1</td>\n",
              "    </tr>\n",
              "    <tr>\n",
              "      <th>lorser feitelson</th>\n",
              "      <td>1</td>\n",
              "    </tr>\n",
              "    <tr>\n",
              "      <th>philippe halsman</th>\n",
              "      <td>1</td>\n",
              "    </tr>\n",
              "  </tbody>\n",
              "</table>\n",
              "<p>1119 rows × 1 columns</p>\n",
              "</div><br><label><b>dtype:</b> int64</label>"
            ]
          },
          "metadata": {},
          "execution_count": 168
        }
      ]
    },
    {
      "cell_type": "code",
      "source": [
        "# df['genre'].value_counts().tail(25)\n",
        "df['genre'].value_counts()"
      ],
      "metadata": {
        "colab": {
          "base_uri": "https://localhost:8080/",
          "height": 489
        },
        "id": "wMJXNJbMavoe",
        "outputId": "5facf193-a5d5-4c71-ee66-5ed37f641b5c"
      },
      "execution_count": 169,
      "outputs": [
        {
          "output_type": "execute_result",
          "data": {
            "text/plain": [
              "genre\n",
              "['Impressionism']                                     12847\n",
              "['Realism']                                           10534\n",
              "['Romanticism']                                        6896\n",
              "['Expressionism']                                      6280\n",
              "['Post Impressionism']                                 6274\n",
              "                                                      ...  \n",
              "['Naive Art Primitivism', 'Naive Art Primitivism']        1\n",
              "['Naive Art Primitivism', 'Realism']                      1\n",
              "['Fauvism', 'Abstract Expressionism']                     1\n",
              "['Impressionism', 'Naive Art Primitivism']                1\n",
              "['Pointillism', 'Art Nouveau Modern']                     1\n",
              "Name: count, Length: 114, dtype: int64"
            ],
            "text/html": [
              "<div>\n",
              "<style scoped>\n",
              "    .dataframe tbody tr th:only-of-type {\n",
              "        vertical-align: middle;\n",
              "    }\n",
              "\n",
              "    .dataframe tbody tr th {\n",
              "        vertical-align: top;\n",
              "    }\n",
              "\n",
              "    .dataframe thead th {\n",
              "        text-align: right;\n",
              "    }\n",
              "</style>\n",
              "<table border=\"1\" class=\"dataframe\">\n",
              "  <thead>\n",
              "    <tr style=\"text-align: right;\">\n",
              "      <th></th>\n",
              "      <th>count</th>\n",
              "    </tr>\n",
              "    <tr>\n",
              "      <th>genre</th>\n",
              "      <th></th>\n",
              "    </tr>\n",
              "  </thead>\n",
              "  <tbody>\n",
              "    <tr>\n",
              "      <th>['Impressionism']</th>\n",
              "      <td>12847</td>\n",
              "    </tr>\n",
              "    <tr>\n",
              "      <th>['Realism']</th>\n",
              "      <td>10534</td>\n",
              "    </tr>\n",
              "    <tr>\n",
              "      <th>['Romanticism']</th>\n",
              "      <td>6896</td>\n",
              "    </tr>\n",
              "    <tr>\n",
              "      <th>['Expressionism']</th>\n",
              "      <td>6280</td>\n",
              "    </tr>\n",
              "    <tr>\n",
              "      <th>['Post Impressionism']</th>\n",
              "      <td>6274</td>\n",
              "    </tr>\n",
              "    <tr>\n",
              "      <th>...</th>\n",
              "      <td>...</td>\n",
              "    </tr>\n",
              "    <tr>\n",
              "      <th>['Naive Art Primitivism', 'Naive Art Primitivism']</th>\n",
              "      <td>1</td>\n",
              "    </tr>\n",
              "    <tr>\n",
              "      <th>['Naive Art Primitivism', 'Realism']</th>\n",
              "      <td>1</td>\n",
              "    </tr>\n",
              "    <tr>\n",
              "      <th>['Fauvism', 'Abstract Expressionism']</th>\n",
              "      <td>1</td>\n",
              "    </tr>\n",
              "    <tr>\n",
              "      <th>['Impressionism', 'Naive Art Primitivism']</th>\n",
              "      <td>1</td>\n",
              "    </tr>\n",
              "    <tr>\n",
              "      <th>['Pointillism', 'Art Nouveau Modern']</th>\n",
              "      <td>1</td>\n",
              "    </tr>\n",
              "  </tbody>\n",
              "</table>\n",
              "<p>114 rows × 1 columns</p>\n",
              "</div><br><label><b>dtype:</b> int64</label>"
            ]
          },
          "metadata": {},
          "execution_count": 169
        }
      ]
    },
    {
      "cell_type": "markdown",
      "source": [
        "## Exclusão de instâncias com mais de uma classificação"
      ],
      "metadata": {
        "id": "S4roX1RBPU2F"
      }
    },
    {
      "cell_type": "code",
      "source": [
        "# para reconhecer que há mais de uma classificação na instância: apresentar caractere vírgula\n",
        "\n",
        "# verifica presença de vírgula para cada instância do df\n",
        "result = df['genre'].apply(lambda x: ',' in x)\n",
        "# inverte os resultados (quando há vírgula, temos False; quando não há vírgula, temos True)\n",
        "df = df[~result] # novo df apresenta instâncias com uma classificação apenas\n",
        "\n",
        "len(df), df['genre'].value_counts()"
      ],
      "metadata": {
        "colab": {
          "base_uri": "https://localhost:8080/"
        },
        "id": "tWb9o6ljGUA2",
        "outputId": "2c685875-788c-4c5c-9d90-a10c49eac36d"
      },
      "execution_count": 170,
      "outputs": [
        {
          "output_type": "execute_result",
          "data": {
            "text/plain": [
              "(78642,\n",
              " genre\n",
              " ['Impressionism']                 12847\n",
              " ['Realism']                       10534\n",
              " ['Romanticism']                    6896\n",
              " ['Expressionism']                  6280\n",
              " ['Post Impressionism']             6274\n",
              " ['Baroque']                        4202\n",
              " ['Symbolism']                      4174\n",
              " ['Art Nouveau Modern']             4155\n",
              " ['Abstract Expressionism']         2574\n",
              " ['Northern Renaissance']           2550\n",
              " ['Naive Art Primitivism']          2299\n",
              " ['Rococo']                         2070\n",
              " ['Cubism']                         2002\n",
              " ['Color Field Painting']           1486\n",
              " ['Pop Art']                        1447\n",
              " ['Early Renaissance']              1387\n",
              " ['High Renaissance']               1339\n",
              " ['Mannerism Late Renaissance']     1275\n",
              " ['Minimalism']                     1250\n",
              " ['Ukiyo e']                        1159\n",
              " ['Fauvism']                         747\n",
              " ['Pointillism']                     490\n",
              " ['Contemporary Realism']            481\n",
              " ['New Realism']                     312\n",
              " ['Synthetic Cubism']                216\n",
              " ['Analytical Cubism']               110\n",
              " ['Action painting']                  86\n",
              " Name: count, dtype: int64)"
            ]
          },
          "metadata": {},
          "execution_count": 170
        }
      ]
    },
    {
      "cell_type": "code",
      "source": [
        "count_values = df['genre'].value_counts()\n",
        "keys = []\n",
        "values = []\n",
        "\n",
        "# chaves e valores guardados em listas\n",
        "for key, value in count_values.items():\n",
        "  keys.append(key)\n",
        "  values.append(value)\n",
        "\n",
        "# visualizando graficamente\n",
        "\n",
        "fig, ax = plt.subplots()\n",
        "# nomes das classes no eixo x; quantidades das instâncias dessas classes no eixo y\n",
        "ax.bar(keys, values)\n",
        "# configura rotação dos nomes para melhorar legibilidade\n",
        "plt.xticks(rotation=50, ha='right')\n",
        "plt.show() # exibe"
      ],
      "metadata": {
        "colab": {
          "base_uri": "https://localhost:8080/",
          "height": 594
        },
        "id": "2JbRyfj-P3pU",
        "outputId": "19406f64-16c5-42eb-e61a-ac7726674edb"
      },
      "execution_count": 171,
      "outputs": [
        {
          "output_type": "display_data",
          "data": {
            "text/plain": [
              "<Figure size 640x480 with 1 Axes>"
            ],
            "image/png": "[encoded data removed]"
          },
          "metadata": {}
        }
      ]
    },
    {
      "cell_type": "markdown",
      "source": [
        "## Preparação do Dataset\n",
        "\n",
        "A distribuição das classes está desbalanceada. Para não gerar overfitting no modelo, vamos equilibrar as quantidades de instâncias das classes."
      ],
      "metadata": {
        "id": "tfJrl8_6PcS7"
      }
    },
    {
      "cell_type": "code",
      "source": [
        "df_train = df[df['subset'] == 'train']\n",
        "df_test = df[df['subset'] == 'test']"
      ],
      "metadata": {
        "id": "OcEPZnpjPuac"
      },
      "execution_count": 172,
      "outputs": []
    },
    {
      "cell_type": "markdown",
      "source": [
        "## [Computer Vision Course - Hugging Face](https://huggingface.co/learn/computer-vision-course/en/unit0/welcome/welcome)\n",
        "\n",
        "### Contextualização e introdução a elementos básicos de Visão Computacional\n",
        "\n",
        "##### Introdução\n",
        "\n",
        "- A visão humana trabalha com a 'entrada' de uma imagem e extração de informações dessa entrada. Visão Computacional é uma tarefa semelhante, mas pode ser muito mais abrangente!\n",
        "- Como é o reconhecimento de bolas usadas em esportes (humanos X computadores)? Essa é uma tarefa que envolve uma análise do contexto geral em que essa bola está inserida, e a classificação exata depende muito do local em que essa bola está inserida, e é aí que entra o uso de Inteligência Artificial!\n",
        "- O uso de programação pura para realizar uma detecção desse tipo é muito difícil, pois o contexto é muito significativo nessa questão (e em várias outras). Em tarefas assim, existe a necessidade de sistemas mais robustos. Por isso Visão Computacional está estreitamente relacionada a IA!\n",
        "\n",
        "##### Imagens\n",
        "\n",
        "- Imagens como funções de N dimensões; pensando em 2 dimensões, cada par de coordenadas xi, yi é um elemento da imagem (pixel, picture element) e a amplitude de F para essa coordenad indica o nível de cinza no ponto. Pensando em cores, cada canal da imagem é uma diferente componente de cor dessa imagem e temos um F pra cada componente de cor (referenciando F(x, y)). Também há outros tipos de imagem em que a função F traz um label para os pixels.\n",
        "- Comumente, os computadores 'visualizam' imagens como matrizes (um array numérico de duas dimensões)!\n",
        "- Vídeos: adicionamos uma terceira dimensão à função F e incluímos a dimensão do tempo (F(x, y, t)).\n",
        "\n",
        "...\n",
        "\n",
        "\n",
        "---\n",
        "\n",
        "### Redes Neurais Convolucionais (Convolutional Neural Networks - CNNs)\n",
        "\n",
        "##### Convolução\n",
        "- Convolução: uma janela com números que atravessa os dados e realiza uma multiplicação e soma desses valores; o resultado desse filtro é a taxa de variação dos dados (derivada!). Essa ideia é a base dos filtros em PDI (filtro de Prewitt, Sobel etc.).\n",
        "\n",
        "##### CNNs\n",
        "- A ideia é utilizar filtros para extrair informações de imagens e, como alguns filtros funcionam melhor ou pior com certas imagens, definir os filtros ótimos que conseguem extrair informações importantes\n",
        "- Muitas vezes, interessa-nos apenas as bordas detectadas em uma imagem. Assim, para 'resumir' uma imagem, realizamos 'pooling' e temos menos parâmetros e ainda assim temos as informações necessárias para trabalhar. Assim, pooling é a operação de obter o elemento de valor mais importante no feature map."
      ],
      "metadata": {
        "id": "qzqFJqRo8XKh"
      }
    },
    {
      "cell_type": "code",
      "source": [],
      "metadata": {
        "id": "FmWwp89lj8dq"
      },
      "execution_count": 172,
      "outputs": []
    }
  ]
}